{
 "cells": [
  {
   "cell_type": "markdown",
   "metadata": {},
   "source": [
    "# Exponential and Gamma Distributions\n",
    "\n",
    "### Motivations and Background\n",
    "The exponential distribution is often used to model the failure of electronic components.\n",
    "The distribution has a memoryless property where the probability of an event occuring in the next X amount of time is the same regardless of where we choose to start the time interval. Fuses for example follow this property. (Hence why the distribution is useful for electronic components.) The probability of a fuse breaking is actually the same regardless of whether the fuse is brand new or a year old (the memoryless property mentioned).\n",
    "\n",
    "### Theory\n",
    "The exponential distribution is a special case of a larger family of functions known as the gamma function.  \n",
    "The gamma distribution is defined as:    \n",
    "$f(y) = \\frac{y^{\\alpha-1}e^{-y/\\beta}}{\\beta^\\alpha\\Gamma(\\alpha)}$   \n",
    "  \n",
    "with $\\alpha > 0$ and $\\beta > 0 $. \n",
    "\n",
    "Note that $\\Gamma(\\alpha)$ itself is known as the gamma function, which is defined as:  \n",
    "\n",
    "$\\Gamma(\\alpha) = \\int_0^\\infty y^{\\alpha-1}e^{-y}dy = (\\alpha-1)!$  "
   ]
  },
  {
   "cell_type": "code",
   "execution_count": 4,
   "metadata": {},
   "outputs": [],
   "source": [
    "import numpy as np\n",
    "import math\n",
    "import matplotlib.pyplot as plt\n",
    "%matplotlib inline"
   ]
  },
  {
   "cell_type": "code",
   "execution_count": 12,
   "metadata": {},
   "outputs": [
    {
     "data": {
      "text/plain": [
       "Text(0.5,1,'Sampe Gamma Distributions, Beta=1')"
      ]
     },
     "execution_count": 12,
     "metadata": {},
     "output_type": "execute_result"
    },
    {
     "data": {
      "image/png": "[encoded data removed]",
      "text/plain": [
       "<Figure size 432x288 with 1 Axes>"
      ]
     },
     "metadata": {},
     "output_type": "display_data"
    }
   ],
   "source": [
    "def gamma(alpha):\n",
    "    return math.factorial(alpha-1)\n",
    "def gamma_dist(y, alpha, beta):\n",
    "    num_t1 = y**(alpha-1) \n",
    "    num_t2 = np.e**(-y/beta)\n",
    "    num = num_t1*num_t2\n",
    "    den = (beta**alpha)*gamma(alpha)\n",
    "    return num/den\n",
    "y = np.linspace(start = 0, stop=20, num=10**3)\n",
    "for a in [1,2,4]:\n",
    "    plt.scatter(y, [gamma_dist(yi, alpha = a, beta=1) for yi in y], label='Alpha={}'.format(a))\n",
    "plt.legend()\n",
    "plt.title('Sampe Gamma Distributions, Beta=1')\n",
    "    "
   ]
  },
  {
   "cell_type": "markdown",
   "metadata": {},
   "source": [
    "Notice all of these distributions are particularly skewed."
   ]
  },
  {
   "cell_type": "markdown",
   "metadata": {},
   "source": [
    "The exponential distribution is the special case where $\\alpha=1$ which yields:  \n",
    "  \n",
    "$f(y) = \\frac{1}{\\beta}e^{-y/\\beta}$\n",
    "\n",
    "**$\\beta$ is the mean or average value of y.**"
   ]
  },
  {
   "cell_type": "markdown",
   "metadata": {},
   "source": [
    "# Exponential Probability\n",
    "Write a function that takes in beta (the average value) as well as a value to calculate the probability of occurence for."
   ]
  },
  {
   "cell_type": "code",
   "execution_count": null,
   "metadata": {},
   "outputs": [],
   "source": [
    "def exp_prob(y, beta):\n",
    "    #Your code here\n",
    "    return prob"
   ]
  },
  {
   "cell_type": "markdown",
   "metadata": {},
   "source": [
    "# Car Battery \n",
    "The probability that a car's battery dies is exponentially distributed with an average lifespan of 100,000 miles. If you drive an average of 10,000 miles per year, what is the probability that the car's battery will die in the first 5 years?"
   ]
  },
  {
   "cell_type": "code",
   "execution_count": null,
   "metadata": {},
   "outputs": [],
   "source": [
    "#Your code and answer here"
   ]
  },
  {
   "cell_type": "markdown",
   "metadata": {},
   "source": [
    "# Printer Insurance\n",
    "The probability of a $200 printer breaking is exponentially distributed with mean of 3 years. If a manufactury sells a 1 year warranty that fully covers a broken printer, how much is the policy worth? "
   ]
  },
  {
   "cell_type": "code",
   "execution_count": null,
   "metadata": {},
   "outputs": [],
   "source": [
    "#Your code here"
   ]
  },
  {
   "cell_type": "markdown",
   "metadata": {},
   "source": [
    "# Home Runs Revisited\n",
    "Remember that the number of home runs that occur within a game can reasonably be modelled by a poisson distribution. When we have a number of occurrences that are modelled by a poisson distribution like this, the time between each occurence can be modelled as an exponential distribution! (Another very useful property to keep in mind going forward.)\n",
    "\n",
    "The Yankees averaged 1.47 home runs per game in 2017. What is the probability that fans had to wait 3 games for the next home run?"
   ]
  },
  {
   "cell_type": "code",
   "execution_count": null,
   "metadata": {},
   "outputs": [],
   "source": [
    "#Your code here"
   ]
  }
 ],
 "metadata": {
  "kernelspec": {
   "display_name": "Python 3",
   "language": "python",
   "name": "python3"
  },
  "language_info": {
   "codemirror_mode": {
    "name": "ipython",
    "version": 3
   },
   "file_extension": ".py",
   "mimetype": "text/x-python",
   "name": "python",
   "nbconvert_exporter": "python",
   "pygments_lexer": "ipython3",
   "version": "3.6.5"
  }
 },
 "nbformat": 4,
 "nbformat_minor": 2
}
